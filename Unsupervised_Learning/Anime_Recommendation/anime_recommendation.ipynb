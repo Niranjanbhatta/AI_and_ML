{
 "cells": [
  {
   "cell_type": "code",
   "execution_count": 1,
   "metadata": {},
   "outputs": [
    {
     "name": "stdout",
     "output_type": "stream",
     "text": [
      "Requirement already satisfied: pandas in d:\\project\\ai_and_ml\\venv\\lib\\site-packages (2.2.3)\n",
      "Requirement already satisfied: joblib in d:\\project\\ai_and_ml\\venv\\lib\\site-packages (1.4.2)\n",
      "Requirement already satisfied: numpy>=1.26.0 in d:\\project\\ai_and_ml\\venv\\lib\\site-packages (from pandas) (2.2.4)\n",
      "Requirement already satisfied: python-dateutil>=2.8.2 in d:\\project\\ai_and_ml\\venv\\lib\\site-packages (from pandas) (2.9.0.post0)\n",
      "Requirement already satisfied: pytz>=2020.1 in d:\\project\\ai_and_ml\\venv\\lib\\site-packages (from pandas) (2025.1)\n",
      "Requirement already satisfied: tzdata>=2022.7 in d:\\project\\ai_and_ml\\venv\\lib\\site-packages (from pandas) (2025.1)\n",
      "Requirement already satisfied: six>=1.5 in d:\\project\\ai_and_ml\\venv\\lib\\site-packages (from python-dateutil>=2.8.2->pandas) (1.17.0)\n",
      "Note: you may need to restart the kernel to use updated packages.\n"
     ]
    },
    {
     "name": "stderr",
     "output_type": "stream",
     "text": [
      "\n",
      "[notice] A new release of pip is available: 24.3.1 -> 25.1.1\n",
      "[notice] To update, run: python.exe -m pip install --upgrade pip\n"
     ]
    }
   ],
   "source": [
    "pip install pandas joblib"
   ]
  },
  {
   "cell_type": "code",
   "execution_count": 2,
   "metadata": {},
   "outputs": [],
   "source": [
    "import os\n",
    "import csv\n",
    "import json\n",
    "import re\n",
    "import chardet\n",
    "import pandas as pd\n",
    "import joblib"
   ]
  },
  {
   "cell_type": "code",
   "execution_count": null,
   "metadata": {},
   "outputs": [],
   "source": [
    "# Get the base directory\n",
    "base_dir = os.getcwd()\n",
    "\n",
    "# Define input and output file paths\n",
    "input_file_path = os.path.join(base_dir, \"Input_Files\", \"Anime.csv\")\n",
    "output_file_path = os.path.join(base_dir, \"Input_Json_Files\", \"Anime.json\")\n",
    "\n",
    "input_file_path = os.path.join(base_dir, \"Input_Files\", \"rating.csv\")\n",
    "output_file_path = os.path.join(base_dir, \"Input_Json_Files\", \"rating.json\")\n",
    "# Detect encoding\n",
    "with open(input_file_path, 'rb') as raw_file:\n",
    "    result = chardet.detect(raw_file.read())\n",
    "    encoding_type = result['encoding']\n",
    "\n",
    "# Function to clean text\n",
    "def clean_text(text):\n",
    "    text = text.strip()  # Remove leading/trailing spaces\n",
    "    text = re.sub(r'\\s+', ' ', text)  # Normalize spaces\n",
    "    text = text.replace(',,', '')  # Remove unnecessary commas\n",
    "    return text\n",
    "\n",
    "# List to store cleaned data\n",
    "cleaned_data = []\n",
    "\n",
    "try:\n",
    "    # Read and clean the raw dataset with detected encoding\n",
    "    with open(input_file_path, 'r', encoding=encoding_type, errors='replace') as file:\n",
    "        reader = csv.reader(file)\n",
    "        next(reader)  # Skip the first row (header)\n",
    "\n",
    "        for row in reader:\n",
    "            if len(row) >= 2:  # Ensure row has at least label and message\n",
    "                label = row[0].strip().lower()  # Convert label to lowercase\n",
    "                message = clean_text(row[1])\n",
    "                cleaned_data.append({\"label\": label, \"message\": message})\n",
    "\n",
    "    # Create the necessary directories if they don't exist\n",
    "    os.makedirs(os.path.dirname(output_file_path), exist_ok=True)\n",
    "\n",
    "    # Save cleaned data as JSON\n",
    "    with open(output_file_path, 'w', encoding='utf-8') as json_file:\n",
    "        json.dump(cleaned_data, json_file, indent=4, ensure_ascii=False)\n",
    "\n",
    "    print(f\"Conversion completed! JSON file '{output_file_path}' is ready.\")\n",
    "except FileNotFoundError:\n",
    "    print(f\"Error: The file '{input_file_path}' was not found.\")\n",
    "except Exception as e:\n",
    "    print(f\"An error occurred: {e}\")"
   ]
  }
 ],
 "metadata": {
  "kernelspec": {
   "display_name": "venv",
   "language": "python",
   "name": "python3"
  },
  "language_info": {
   "codemirror_mode": {
    "name": "ipython",
    "version": 3
   },
   "file_extension": ".py",
   "mimetype": "text/x-python",
   "name": "python",
   "nbconvert_exporter": "python",
   "pygments_lexer": "ipython3",
   "version": "3.13.2"
  }
 },
 "nbformat": 4,
 "nbformat_minor": 2
}
